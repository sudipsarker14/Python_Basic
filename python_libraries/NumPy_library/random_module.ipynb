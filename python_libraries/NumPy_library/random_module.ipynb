{
 "cells": [
  {
   "cell_type": "code",
   "execution_count": 1,
   "metadata": {},
   "outputs": [],
   "source": [
    "import numpy as np # import numpy package\n",
    "import random # import random module"
   ]
  },
  {
   "cell_type": "code",
   "execution_count": 2,
   "metadata": {},
   "outputs": [
    {
     "name": "stdout",
     "output_type": "stream",
     "text": [
      "[0.39129509]\n",
      "[[0.24096321 0.85926343 0.71350348]\n",
      " [0.49332236 0.98056933 0.87232387]\n",
      " [0.64834581 0.90764096 0.37815943]]\n"
     ]
    }
   ],
   "source": [
    "#np.random.random()\n",
    "#This function generates float value between 0.0 to 1.0 and returns ndarray if you will give shape.\n",
    "\n",
    "rd_num = np.random.random(1)\n",
    "rd_2D_array =  np.random.random((3,3))\n",
    "print(rd_num)\n",
    "print(rd_2D_array)"
   ]
  },
  {
   "cell_type": "code",
   "execution_count": 3,
   "metadata": {},
   "outputs": [
    {
     "name": "stdout",
     "output_type": "stream",
     "text": [
      "2\n",
      "[[1 1 2 2]\n",
      " [3 2 1 3]\n",
      " [2 2 3 2]\n",
      " [3 1 1 2]]\n",
      "[[[2 2 3 2]\n",
      "  [1 2 2 1]\n",
      "  [3 1 1 1]\n",
      "  [3 1 3 3]]\n",
      "\n",
      " [[2 3 2 2]\n",
      "  [1 1 1 1]\n",
      "  [1 3 1 2]\n",
      "  [2 2 1 1]]]\n"
     ]
    }
   ],
   "source": [
    "#np.random.randint()\n",
    "#The random integer function generates single random integer number from given range and if the shape will give then return ndarray.\n",
    "\n",
    "rd_no = np.random.randint(1,4)\n",
    "rd_2D_arr = np.random.randint(1,4, (4,4))\n",
    "rd_3D_arr = np.random.randint(1,4, (2,4,4))\n",
    " \n",
    "print(rd_no)\n",
    "print(rd_2D_arr)\n",
    "print(rd_3D_arr)"
   ]
  },
  {
   "cell_type": "code",
   "execution_count": 4,
   "metadata": {},
   "outputs": [
    {
     "name": "stdout",
     "output_type": "stream",
     "text": [
      "[[[2 2 1 1]\n",
      "  [2 1 2 2]\n",
      "  [1 2 2 3]\n",
      "  [1 2 1 3]]\n",
      "\n",
      " [[1 3 1 1]\n",
      "  [1 3 1 3]\n",
      "  [3 2 1 1]\n",
      "  [3 2 3 2]]]\n"
     ]
    }
   ],
   "source": [
    "#np.random.seed()\n",
    "#The random module generates random number but next time you want to generate the same number then seed() will help.\n",
    "\n",
    "np.random.seed(10)\n",
    "rd_3D_arr = np.random.randint(1,4, (2,4,4))\n",
    "print(rd_3D_arr)"
   ]
  },
  {
   "cell_type": "code",
   "execution_count": 5,
   "metadata": {},
   "outputs": [
    {
     "name": "stdout",
     "output_type": "stream",
     "text": [
      "[[[2 2 1 1]\n",
      "  [2 1 2 2]\n",
      "  [1 2 2 3]\n",
      "  [1 2 1 3]]\n",
      "\n",
      " [[1 3 1 1]\n",
      "  [1 3 1 3]\n",
      "  [3 2 1 1]\n",
      "  [3 2 3 2]]]\n"
     ]
    }
   ],
   "source": [
    "#Next time generate the same 3D array using the same seed value (10).\n",
    "\n",
    "np.random.seed(10)\n",
    "rd_3D_arr = np.random.randint(1,4, (2,4,4))\n",
    "print(rd_3D_arr)"
   ]
  },
  {
   "cell_type": "code",
   "execution_count": 6,
   "metadata": {},
   "outputs": [
    {
     "name": "stdout",
     "output_type": "stream",
     "text": [
      "[[0.13145815 0.41366737 0.77872881]\n",
      " [0.58390137 0.18263144 0.82608225]\n",
      " [0.10540183 0.28357668 0.06556327]]\n"
     ]
    }
   ],
   "source": [
    "#np.random.rand()\n",
    "#The rand() function work like random() but it accept shape and return ndarray which contain random values between 0.0 to 1.0.\n",
    "\n",
    "arr_2D = np.random.rand(3,3) # return  3 x 3 matrix\n",
    "print(arr_2D)"
   ]
  },
  {
   "cell_type": "code",
   "execution_count": 7,
   "metadata": {},
   "outputs": [
    {
     "name": "stdout",
     "output_type": "stream",
     "text": [
      "[[ 0.67893119 -1.91355421 -0.94245806]\n",
      " [-1.74554298 -1.02094527 -0.16206903]\n",
      " [-0.6579709   0.42211306  0.62402334]]\n"
     ]
    }
   ],
   "source": [
    "#np.random.randn()\n",
    "#The randn() function work like rand() function but it reurn samples of  standerd normalise distribution value.\n",
    "\n",
    "arr_2D = np.random.randn(3,3)\n",
    "print(arr_2D)"
   ]
  },
  {
   "cell_type": "code",
   "execution_count": 8,
   "metadata": {},
   "outputs": [
    {
     "name": "stdout",
     "output_type": "stream",
     "text": [
      "1\n"
     ]
    }
   ],
   "source": [
    "#np.random.choice()\n",
    "#If you have sequence values and want to get random single value then the random choice() function is the best choice.\n",
    "\n",
    "x = [1,2,3,4] # list\n",
    "choice_from_x = np.random.choice(x) # retun random single item from sequence\n",
    "print(choice_from_x )"
   ]
  },
  {
   "cell_type": "code",
   "execution_count": 9,
   "metadata": {},
   "outputs": [
    {
     "name": "stdout",
     "output_type": "stream",
     "text": [
      "1\n",
      "3\n",
      "1\n",
      "3\n",
      "3\n",
      "1\n",
      "4\n",
      "2\n",
      "1\n",
      "4\n",
      "2\n",
      "3\n",
      "3\n",
      "2\n",
      "3\n",
      "3\n",
      "4\n",
      "1\n",
      "1\n",
      "1\n"
     ]
    }
   ],
   "source": [
    "#Let’s try to get the number of choice from sequence x using for loop.\n",
    "\n",
    "for i in range(20):\n",
    "    print(np.random.choice(x))"
   ]
  },
  {
   "cell_type": "code",
   "execution_count": 10,
   "metadata": {},
   "outputs": [
    {
     "name": "stdout",
     "output_type": "stream",
     "text": [
      "[2 4 3 1]\n"
     ]
    }
   ],
   "source": [
    "#np.random.permutation()\n",
    "#If you want to generate some permutation of sequence then use random permutation() function.\n",
    "\n",
    "x_permute = np.random.permutation(x)\n",
    "print(x_permute)"
   ]
  }
 ],
 "metadata": {
  "kernelspec": {
   "display_name": "Python 3",
   "language": "python",
   "name": "python3"
  },
  "language_info": {
   "codemirror_mode": {
    "name": "ipython",
    "version": 3
   },
   "file_extension": ".py",
   "mimetype": "text/x-python",
   "name": "python",
   "nbconvert_exporter": "python",
   "pygments_lexer": "ipython3",
   "version": "3.12.2"
  }
 },
 "nbformat": 4,
 "nbformat_minor": 2
}
