{
 "cells": [
  {
   "cell_type": "markdown",
   "metadata": {},
   "source": [
    "np.sin() Trigonometric Function\n",
    "The np.sin() NumPy function help to find sine value of the angle in degree and radian.\n",
    "\n",
    "Syntax: sin(x, /, out=None, *, where=True, casting=’same_kind’, order=’K’, dtype=None, subok=True[, signature, extobj])"
   ]
  },
  {
   "cell_type": "code",
   "execution_count": 1,
   "metadata": {},
   "outputs": [
    {
     "name": "stdout",
     "output_type": "stream",
     "text": [
      "Sine value of angle 90 in degree =  0.8939966636005579\n"
     ]
    }
   ],
   "source": [
    "#Sine value of angle in degrees\n",
    "\n",
    "import numpy as np # import numpy package\n",
    "sin_90 = np.sin(90) # sine value of degree 90 in degree\n",
    "print(\"Sine value of angle 90 in degree = \",sin_90) # print sine value"
   ]
  },
  {
   "cell_type": "markdown",
   "metadata": {},
   "source": [
    "Sine value of the angle in radians\n",
    "To get sine value of the angle in radians, need to multiply angle with np.pi/180.\n",
    "np.pi = 3.14"
   ]
  },
  {
   "cell_type": "code",
   "execution_count": 2,
   "metadata": {},
   "outputs": [
    {
     "name": "stdout",
     "output_type": "stream",
     "text": [
      "Sine value of angle 90 in radians =  1.0\n"
     ]
    }
   ],
   "source": [
    "sin_90 = np.sin(90 * np.pi/180) # sine value of angle 90 in radinas\n",
    "print(\"Sine value of angle 90 in radians = \", sin_90)"
   ]
  },
  {
   "cell_type": "markdown",
   "metadata": {},
   "source": [
    "np.cos() Trigonometric Function\n",
    "The np.cos() NumPy function help to find cosine value of the angle in degree and radian.\n",
    "Syntax: cos(x, /, out=None, *, where=True, casting=’same_kind’, order=’K’, dtype=None, subok=True[, signature, extobj])"
   ]
  },
  {
   "cell_type": "code",
   "execution_count": 3,
   "metadata": {},
   "outputs": [
    {
     "name": "stdout",
     "output_type": "stream",
     "text": [
      "Cosine value of angle 180 in degree =  -0.5984600690578582\n"
     ]
    }
   ],
   "source": [
    "#Cosine value of angle in degrees\n",
    "\n",
    "cos_180 = np.cos(180) # cosine value of degree 180 in degree\n",
    "print(\"Cosine value of angle 180 in degree = \", cos_180) # print cosine value"
   ]
  },
  {
   "cell_type": "markdown",
   "metadata": {},
   "source": [
    "Cosine value of the angle in radians\n",
    "To get cosine value of the angle in radians, need to multiply angle with np.pi/180.\n",
    "np.pi = 3.14"
   ]
  },
  {
   "cell_type": "code",
   "execution_count": 4,
   "metadata": {},
   "outputs": [
    {
     "name": "stdout",
     "output_type": "stream",
     "text": [
      "Cosine value of angle 180 in radians =  -1.0\n"
     ]
    }
   ],
   "source": [
    "cos_180 = np.cos(180 * np.pi/180)\n",
    "print(\"Cosine value of angle 180 in radians = \", cos_180)"
   ]
  },
  {
   "cell_type": "markdown",
   "metadata": {},
   "source": [
    "np.tan() Trigonometric Function\n",
    "The np.tan() NumPy function help to find tangent value of the angle in degree and radian.\n",
    "\n",
    "Syntax: tan(x, /, out=None, *, where=True, casting=’same_kind’, order=’K’, dtype=None, subok=True[, signature, extobj])"
   ]
  },
  {
   "cell_type": "code",
   "execution_count": 6,
   "metadata": {},
   "outputs": [
    {
     "name": "stdout",
     "output_type": "stream",
     "text": [
      "Tangent value of angle 60 in degree =  0.320040389379563\n"
     ]
    }
   ],
   "source": [
    "#Tangent value of angle in degrees\n",
    "\n",
    "tan_60 = np.tan(60) # tangent value of degree 60 in degree\n",
    "print(\"Tangent value of angle 60 in degree = \", tan_60) # print tangent value"
   ]
  },
  {
   "cell_type": "markdown",
   "metadata": {},
   "source": [
    "Cosine value of the angle in radians\n",
    "To get the tangent value of the angle in radians, need to multiply angle with np.pi/180.\n",
    "np.pi = 3.14"
   ]
  },
  {
   "cell_type": "code",
   "execution_count": 7,
   "metadata": {},
   "outputs": [
    {
     "name": "stdout",
     "output_type": "stream",
     "text": [
      "Tangent value of angle 60 in radians =  1.7320508075688767\n"
     ]
    }
   ],
   "source": [
    "tan_60 = np.tan(60 * np.pi/180) # tangent value of degree 60 in degree\n",
    "print(\"Tangent value of angle 60 in radians = \", tan_60) # print tangent value"
   ]
  }
 ],
 "metadata": {
  "kernelspec": {
   "display_name": "Python 3",
   "language": "python",
   "name": "python3"
  },
  "language_info": {
   "codemirror_mode": {
    "name": "ipython",
    "version": 3
   },
   "file_extension": ".py",
   "mimetype": "text/x-python",
   "name": "python",
   "nbconvert_exporter": "python",
   "pygments_lexer": "ipython3",
   "version": "3.12.2"
  }
 },
 "nbformat": 4,
 "nbformat_minor": 2
}
